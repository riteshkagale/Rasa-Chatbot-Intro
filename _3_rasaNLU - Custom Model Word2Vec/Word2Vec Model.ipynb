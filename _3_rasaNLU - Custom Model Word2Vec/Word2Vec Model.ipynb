{
 "cells": [
  {
   "cell_type": "code",
   "execution_count": 1,
   "metadata": {},
   "outputs": [
    {
     "name": "stdout",
     "output_type": "stream",
     "text": [
      "Requirement already satisfied: gensim in c:\\users\\mf11282\\anaconda3\\lib\\site-packages (4.1.2)\n",
      "Requirement already satisfied: scipy>=0.18.1 in c:\\users\\mf11282\\appdata\\roaming\\python\\python38\\site-packages (from gensim) (1.7.1)\n",
      "Requirement already satisfied: smart-open>=1.8.1 in c:\\users\\mf11282\\anaconda3\\lib\\site-packages (from gensim) (5.2.1)\n",
      "Requirement already satisfied: numpy>=1.17.0 in c:\\users\\mf11282\\appdata\\roaming\\python\\python38\\site-packages (from gensim) (1.18.5)\n",
      "Requirement already satisfied: Cython==0.29.23 in c:\\users\\mf11282\\anaconda3\\lib\\site-packages (from gensim) (0.29.23)\n"
     ]
    }
   ],
   "source": [
    "!python -m pip install -U gensim"
   ]
  },
  {
   "cell_type": "code",
   "execution_count": 2,
   "metadata": {},
   "outputs": [],
   "source": [
    "from gensim.models import Word2Vec\n",
    "import pandas as pd\n",
    "import os\n",
    "\n",
    "os.chdir('D:/RasaExamples/Complete chatbot course using Rasa python nlp ai/_3_word2vec_custom_model/external_data')"
   ]
  },
  {
   "cell_type": "code",
   "execution_count": 3,
   "metadata": {},
   "outputs": [],
   "source": [
    "combined_reviews = pd.read_csv(\"reviews_combined_amazon.csv\")"
   ]
  },
  {
   "cell_type": "code",
   "execution_count": 4,
   "metadata": {},
   "outputs": [
    {
     "data": {
      "text/plain": [
       "(24630, 10)"
      ]
     },
     "execution_count": 4,
     "metadata": {},
     "output_type": "execute_result"
    }
   ],
   "source": [
    "combined_reviews.shape"
   ]
  },
  {
   "cell_type": "code",
   "execution_count": 5,
   "metadata": {},
   "outputs": [
    {
     "data": {
      "text/html": [
       "<div>\n",
       "<style scoped>\n",
       "    .dataframe tbody tr th:only-of-type {\n",
       "        vertical-align: middle;\n",
       "    }\n",
       "\n",
       "    .dataframe tbody tr th {\n",
       "        vertical-align: top;\n",
       "    }\n",
       "\n",
       "    .dataframe thead th {\n",
       "        text-align: right;\n",
       "    }\n",
       "</style>\n",
       "<table border=\"1\" class=\"dataframe\">\n",
       "  <thead>\n",
       "    <tr style=\"text-align: right;\">\n",
       "      <th></th>\n",
       "      <th>Unnamed: 0</th>\n",
       "      <th>review_id</th>\n",
       "      <th>product_url</th>\n",
       "      <th>review_author</th>\n",
       "      <th>Verified Buyer</th>\n",
       "      <th>review_title</th>\n",
       "      <th>review_text</th>\n",
       "      <th>stars</th>\n",
       "      <th>date</th>\n",
       "      <th>review votes</th>\n",
       "    </tr>\n",
       "  </thead>\n",
       "  <tbody>\n",
       "    <tr>\n",
       "      <th>0</th>\n",
       "      <td>0</td>\n",
       "      <td>R2883ZZX8S4DBO</td>\n",
       "      <td>https://www.amazon.in/Redmi-6A-Black-2GBRAM-St...</td>\n",
       "      <td>NaN</td>\n",
       "      <td>Yes</td>\n",
       "      <td>Redmi 6A hangs and lags while using. Redmi 5A ...</td>\n",
       "      <td>Redmi 6A has lag problems. This phone is hangi...</td>\n",
       "      <td>3.0 out of 5 stars</td>\n",
       "      <td>Reviewed in India on 30 September 2018</td>\n",
       "      <td>Null</td>\n",
       "    </tr>\n",
       "    <tr>\n",
       "      <th>1</th>\n",
       "      <td>1</td>\n",
       "      <td>R58XXWQ96EJT9</td>\n",
       "      <td>https://www.amazon.in/Redmi-6A-Black-2GBRAM-St...</td>\n",
       "      <td>NaN</td>\n",
       "      <td>Yes</td>\n",
       "      <td>GOOd budget phone, but...</td>\n",
       "      <td>Pros: 1) Decent Video/audio recording with min...</td>\n",
       "      <td>3.0 out of 5 stars</td>\n",
       "      <td>Reviewed in India on 25 October 2018</td>\n",
       "      <td>Null</td>\n",
       "    </tr>\n",
       "    <tr>\n",
       "      <th>2</th>\n",
       "      <td>2</td>\n",
       "      <td>R2MFM9SKZO2BCT</td>\n",
       "      <td>https://www.amazon.in/Redmi-6A-Black-2GBRAM-St...</td>\n",
       "      <td>NaN</td>\n",
       "      <td>Yes</td>\n",
       "      <td>Exceptional value 😍 Perfect phone for any use,...</td>\n",
       "      <td>Love the phone. Everything on it works as expe...</td>\n",
       "      <td>4.0 out of 5 stars</td>\n",
       "      <td>Reviewed in India on 14 November 2018</td>\n",
       "      <td>Null</td>\n",
       "    </tr>\n",
       "    <tr>\n",
       "      <th>3</th>\n",
       "      <td>3</td>\n",
       "      <td>RKCN05H7J4N9D</td>\n",
       "      <td>https://www.amazon.in/Redmi-6A-Black-2GBRAM-St...</td>\n",
       "      <td>NaN</td>\n",
       "      <td>Yes</td>\n",
       "      <td>Bought because of Dual 4g volte(</td>\n",
       "      <td>If u want to gift for parents I think this wil...</td>\n",
       "      <td>5.0 out of 5 stars</td>\n",
       "      <td>Reviewed in India on 30 October 2018</td>\n",
       "      <td>Null</td>\n",
       "    </tr>\n",
       "    <tr>\n",
       "      <th>4</th>\n",
       "      <td>4</td>\n",
       "      <td>RLT2QWB4HQGTJ</td>\n",
       "      <td>https://www.amazon.in/Redmi-6A-Black-2GBRAM-St...</td>\n",
       "      <td>NaN</td>\n",
       "      <td>Yes</td>\n",
       "      <td>Don't buy - 2nd Sim slot problem and battery p...</td>\n",
       "      <td>Don't buy this product. It is not recognizing ...</td>\n",
       "      <td>1.0 out of 5 stars</td>\n",
       "      <td>Reviewed in India on 8 October 2018</td>\n",
       "      <td>Null</td>\n",
       "    </tr>\n",
       "  </tbody>\n",
       "</table>\n",
       "</div>"
      ],
      "text/plain": [
       "   Unnamed: 0       review_id  \\\n",
       "0           0  R2883ZZX8S4DBO   \n",
       "1           1   R58XXWQ96EJT9   \n",
       "2           2  R2MFM9SKZO2BCT   \n",
       "3           3   RKCN05H7J4N9D   \n",
       "4           4   RLT2QWB4HQGTJ   \n",
       "\n",
       "                                         product_url review_author  \\\n",
       "0  https://www.amazon.in/Redmi-6A-Black-2GBRAM-St...           NaN   \n",
       "1  https://www.amazon.in/Redmi-6A-Black-2GBRAM-St...           NaN   \n",
       "2  https://www.amazon.in/Redmi-6A-Black-2GBRAM-St...           NaN   \n",
       "3  https://www.amazon.in/Redmi-6A-Black-2GBRAM-St...           NaN   \n",
       "4  https://www.amazon.in/Redmi-6A-Black-2GBRAM-St...           NaN   \n",
       "\n",
       "  Verified Buyer                                       review_title  \\\n",
       "0            Yes  Redmi 6A hangs and lags while using. Redmi 5A ...   \n",
       "1            Yes                          GOOd budget phone, but...   \n",
       "2            Yes  Exceptional value 😍 Perfect phone for any use,...   \n",
       "3            Yes                   Bought because of Dual 4g volte(   \n",
       "4            Yes  Don't buy - 2nd Sim slot problem and battery p...   \n",
       "\n",
       "                                         review_text               stars  \\\n",
       "0  Redmi 6A has lag problems. This phone is hangi...  3.0 out of 5 stars   \n",
       "1  Pros: 1) Decent Video/audio recording with min...  3.0 out of 5 stars   \n",
       "2  Love the phone. Everything on it works as expe...  4.0 out of 5 stars   \n",
       "3  If u want to gift for parents I think this wil...  5.0 out of 5 stars   \n",
       "4  Don't buy this product. It is not recognizing ...  1.0 out of 5 stars   \n",
       "\n",
       "                                     date review votes  \n",
       "0  Reviewed in India on 30 September 2018         Null  \n",
       "1    Reviewed in India on 25 October 2018         Null  \n",
       "2   Reviewed in India on 14 November 2018         Null  \n",
       "3    Reviewed in India on 30 October 2018         Null  \n",
       "4     Reviewed in India on 8 October 2018         Null  "
      ]
     },
     "execution_count": 5,
     "metadata": {},
     "output_type": "execute_result"
    }
   ],
   "source": [
    "combined_reviews.head()"
   ]
  },
  {
   "cell_type": "code",
   "execution_count": 6,
   "metadata": {},
   "outputs": [],
   "source": [
    "combined_reviews['review_title_text'] = combined_reviews['review_title'].apply(lambda x:str(x)) + \" \" + combined_reviews['review_text'].apply(lambda x:str(x))"
   ]
  },
  {
   "cell_type": "code",
   "execution_count": 7,
   "metadata": {},
   "outputs": [],
   "source": [
    "reviews_title_text_list = combined_reviews['review_title_text'].to_list()"
   ]
  },
  {
   "cell_type": "code",
   "execution_count": 8,
   "metadata": {},
   "outputs": [
    {
     "data": {
      "text/plain": [
       "['Redmi 6A hangs and lags while using. Redmi 5A is better than this phone. Redmi 6A has lag problems. This phone is hanging and lags while using YouTube and browser.Redmi 5A is far better than Redmi 6A. I am regretting on my decision for buying this phone. Not satisfied.',\n",
       " \"GOOd budget phone, but... Pros: 1) Decent Video/audio recording with minimum distortion. (noise cancellation is much much better than Redmi 5a) 2) Decent Camera for a budget phone. 3) good for Android smartphone beginners. 4) Can run 3-4 apps in the background without lag/hanging. 5) Fast boot. 6) Good touch response for a budget phone, I find it to extra sensitive. hahaCons: 1) Bad Video quality for watching movies/ you tube. But I use phone only for calls, whatsapp and sometimes Instagram. I use my laptop to watch movies, so not a big deal for me. 2) Unable to share Internet hotspot to computer/Laptop. But I posted a tip on how to solve this problem in MI community India. All you need to do is download an app called PDANet+ (available in Google play store) in both your phone and computer. Go and check it out. Apart from the few drawbacks mentioned above, this phone is quite good for a budget phone. If you can live without the good video quality by watching movies/videos on another device, go for it. The 1440X720 resolution is much worse compared to Redmi 5a's 1280X720. In fact Redmi 5a's video/picture resolution is much better and detailed compared to Redmi 6a. Ordered and received another redmi 6a for my dad.\",\n",
       " \"Exceptional value 😍 Perfect phone for any use, beautifully built. Love the phone. Everything on it works as expected. I've been using this phone for about 1 weeks, and so far I'm loving it. Here's me breakdown:The quality, fit and finish are amazing. No one believes this is low priced phone.Battery: exceptional battery life, the best in any smartphone I've had so far.Build/design: one of the best smartphone designs and build quality I've used, even compared to much more expensive models.Camera: not as good as my Honor 7C, but still takes good enough pictures that it's not really a problem for me.Really littil bit difficult to find fault with this phone, especially for the price even I don't like the audio quality. overall Best Product. Durable solid feel, very responsive and works great overall.\",\n",
       " \"Bought because of Dual 4g volte( If u want to gift for parents I think this will be good option.This phone is not for heavy users that doesn't mean that u cannot use this for daily use .Yes u can use but playing heavy games like pubg etc will impact the performance.For the price this phone is good.Pros: Build quality is decent,Camera is good both front and back for this price ,display is good,decent battery life,Dual 4g volte ...Cons: Performance is average not the best in this price range but for daily use this will phone will be good.Should have provided case or screen guard in the box.I am not the big fan of miui (It is personal preference)Annoying Ads in miui .(Hope this comment is helpful)\",\n",
       " \"Don't buy - 2nd Sim slot problem and battery problem. Go for other mobiles. Don't buy this product. It is not recognizing the second Sim. Its a different and a saperate slot for 2nd sim unlike the other phones and the phone is not recognizing the 2nd slot. It's better if both the SIM cards are placed in single slot. Battery backup is very low, you will need to charge twice daily.\",\n",
       " \"A budget Smart Phone ❤ It's a very good choice on a small budget. I tell You Why...Screen -IPS Screen with HD+ (720*1440) Display , It looks very NiceEasy to read in Day Light.Note - Mobile screen has round shape (but screen shot has corners , IDK how)Battery -I have submitted screen shots about battery uses (It is without sim card)It took 19 hours, from 100 percent to 81 percent (with screen on 33 minutes and with no sim card)So in my opinion battery is decent enough for a day useCamera -I have submitted the photo sample . You can check in ti photos . these photos are taken in day lightcamera is good for day light shooting.SoundSound quality is good, in Speaker as well as in earphone (Earphone is not provided with handset)Phone speaker is loud enough to fill a roomOS and UIComes with android version 8.1 😊UI is Great , Easy to understand.It comes with some unnecessary pre-loaded apps which can be deleted (but not the MI apps)Network CallingI have used it in whatsapp calling only and the voice clarity was good, no issue.I will update my review after 1-2 weeks of use .Recommended ?Yes, Best smart phone according to the budget.\",\n",
       " \"Extremely poor camera. The cameras both front and rear are a huge disappointment as compared to redmi 4 and redmi 5a. I fail to understand how they could deteriorate it from previous phones. Portrait mode doesn't work properly either. I don't expect the camera of S8 or iPhone in 6000 but other phones in the same price range certainly have better to offer. Other features work well but I was really let down with the camera this time.\",\n",
       " 'Processor issue Processor is so bad.and not working properly.so please note this point.otherwise redmi 5a processor is so good',\n",
       " 'Pretty decent overall performance Awesome entry level smartphone. Face unlock works a bit slow. But okay. The processor is less power consuming. Full screen display works like charm. A five star for 1.5 day delivery by Amazon. Redmi has lot improved in the music quality section. Pretty decent overall performance. Good choice. Go for it in 6k budget before price rise again.',\n",
       " 'Amazon Mi teller are fraud The phone which I purchased through amazon is a worst, I cannot trust amazon anymore, I purchased Redmi 6A on 12th of Nov. I own the phone tried using it, since its a dual sim, I inserted my two sim, n tried using,the second sim was not detectable, I took out again n tried inserting again,the same thing was showing on, I took the new phone to a mobile shop to show it, den the shopkeeper said the motherboard is not good, so funny the new phone which I purchased was from amazon redmi 6A,is not a good phone, I have kept the phone to change the mother board..worst experience ever...']"
      ]
     },
     "execution_count": 8,
     "metadata": {},
     "output_type": "execute_result"
    }
   ],
   "source": [
    "reviews_title_text_list[0:10]"
   ]
  },
  {
   "cell_type": "code",
   "execution_count": 9,
   "metadata": {},
   "outputs": [],
   "source": [
    "#[['I','bought', 'a', 'phone']]\n",
    "sentence_stream = [doc.split(\" \") for doc in reviews_title_text_list]"
   ]
  },
  {
   "cell_type": "code",
   "execution_count": 10,
   "metadata": {},
   "outputs": [],
   "source": [
    "#sentence_steam[0:10]\n",
    "from gensim.models import Phrases\n",
    "from gensim.models.phrases import Phraser\n",
    "bigram = Phrases(sentence_stream, min_count=2,threshold = 5)\n",
    "bigram_phraser = Phraser(bigram)"
   ]
  },
  {
   "cell_type": "code",
   "execution_count": 11,
   "metadata": {},
   "outputs": [],
   "source": [
    "tokens_list = []\n",
    "for sent in sentence_stream:\n",
    "    tokens_ = bigram_phraser[sent]\n",
    "    tokens_list.append(tokens_)"
   ]
  },
  {
   "cell_type": "code",
   "execution_count": 12,
   "metadata": {},
   "outputs": [
    {
     "name": "stdout",
     "output_type": "stream",
     "text": [
      "[['Redmi_6A', 'hangs', 'and', 'lags_while', 'using.', 'Redmi_5A', 'is', 'better_than', 'this_phone.', 'Redmi_6A', 'has', 'lag', 'problems.', 'This_phone', 'is', 'hanging', 'and', 'lags_while', 'using', 'YouTube', 'and', 'browser.Redmi', '5A', 'is', 'far_better', 'than_Redmi', '6A.', 'I_am', 'regretting', 'on', 'my_decision', 'for', 'buying_this', 'phone.', 'Not', 'satisfied.'], ['GOOd', 'budget_phone,', 'but...', 'Pros:', '1)', 'Decent', 'Video/audio', 'recording', 'with_minimum', 'distortion.', '(noise', 'cancellation_is', 'much', 'much_better', 'than_Redmi', '5a)', '2)', 'Decent_Camera', 'for', 'a', 'budget_phone.', '3)', 'good', 'for', 'Android_smartphone', 'beginners.', '4)', 'Can_run', '3-4', 'apps', 'in', 'the', 'background', 'without', 'lag/hanging.', '5)', 'Fast_boot.', '6)', 'Good', 'touch_response', 'for', 'a', 'budget_phone,', 'I', 'find', 'it', 'to', 'extra', 'sensitive.', 'hahaCons:', '1)', 'Bad', 'Video_quality', 'for', 'watching', 'movies/', 'you', 'tube.', 'But', 'I', 'use', 'phone', 'only', 'for', 'calls,', 'whatsapp', 'and', 'sometimes', 'Instagram.', 'I', 'use', 'my', 'laptop', 'to_watch', 'movies,', 'so', 'not', 'a_big', 'deal', 'for_me.', '2)', 'Unable_to', 'share', 'Internet', 'hotspot', 'to', 'computer/Laptop.', 'But', 'I', 'posted', 'a', 'tip', 'on', 'how', 'to_solve', 'this', 'problem', 'in', 'MI', 'community', 'India.', 'All', 'you_need', 'to', 'do', 'is', 'download', 'an_app', 'called', 'PDANet+', '(available', 'in', 'Google_play', 'store)', 'in', 'both', 'your', 'phone', 'and', 'computer.', 'Go', 'and', 'check', 'it', 'out.', 'Apart_from', 'the', 'few', 'drawbacks', 'mentioned', 'above,', 'this_phone', 'is_quite', 'good', 'for', 'a', 'budget_phone.', 'If_you', 'can_live', 'without', 'the', 'good', 'video', 'quality', 'by', 'watching', 'movies/videos', 'on', 'another', 'device,', 'go_for', 'it.', 'The', '1440X720', 'resolution', 'is', 'much_worse', 'compared_to', 'Redmi', \"5a's\", '1280X720.', 'In', 'fact', 'Redmi', \"5a's\", 'video/picture', 'resolution', 'is', 'much_better', 'and', 'detailed', 'compared_to', 'Redmi', '6a.', 'Ordered', 'and', 'received', 'another', 'redmi_6a', 'for', 'my_dad.'], ['Exceptional', 'value', '😍', 'Perfect', 'phone', 'for', 'any', 'use,', 'beautifully', 'built.', 'Love', 'the', 'phone.', 'Everything', 'on', 'it', 'works', 'as_expected.', \"I've_been\", 'using_this', 'phone', 'for', 'about', '1', 'weeks,', 'and', 'so_far', \"I'm_loving\", 'it.', \"Here's\", 'me', 'breakdown:The', 'quality,', 'fit', 'and', 'finish', 'are_amazing.', 'No', 'one', 'believes', 'this', 'is', 'low_priced', 'phone.Battery:', 'exceptional', 'battery_life,', 'the_best', 'in', 'any', 'smartphone', \"I've_had\", 'so', 'far.Build/design:', 'one', 'of', 'the_best', 'smartphone', 'designs', 'and', 'build_quality', \"I've\", 'used,', 'even', 'compared_to', 'much_more', 'expensive', 'models.Camera:', 'not', 'as', 'good', 'as', 'my', 'Honor', '7C,', 'but_still', 'takes', 'good_enough', 'pictures', 'that', \"it's\", 'not', 'really', 'a', 'problem', 'for', 'me.Really', 'littil', 'bit_difficult', 'to', 'find', 'fault', 'with', 'this_phone,', 'especially', 'for', 'the', 'price', 'even', \"I_don't\", 'like', 'the', 'audio_quality.', 'overall', 'Best', 'Product.', 'Durable', 'solid', 'feel,', 'very_responsive', 'and', 'works', 'great_overall.'], ['Bought', 'because_of', 'Dual', '4g', 'volte(', 'If_u', 'want_to', 'gift', 'for_parents', 'I_think', 'this', 'will_be', 'good', 'option.This', 'phone', 'is', 'not', 'for', 'heavy_users', 'that', \"doesn't\", 'mean', 'that', 'u_cannot', 'use', 'this', 'for_daily', 'use', '.Yes', 'u_can', 'use', 'but', 'playing_heavy', 'games_like', 'pubg', 'etc', 'will', 'impact', 'the', 'performance.For', 'the', 'price', 'this_phone', 'is', 'good.Pros:', 'Build_quality', 'is', 'decent,Camera', 'is', 'good', 'both_front', 'and', 'back', 'for', 'this_price', ',display', 'is', 'good,decent', 'battery', 'life,Dual', '4g_volte', '...Cons:', 'Performance_is', 'average', 'not', 'the_best', 'in', 'this_price', 'range', 'but', 'for_daily', 'use', 'this', 'will', 'phone', 'will_be', 'good.Should', 'have_provided', 'case', 'or', 'screen_guard', 'in', 'the_box.I', 'am', 'not', 'the', 'big_fan', 'of', 'miui', '(It', 'is', 'personal', 'preference)Annoying', 'Ads', 'in', 'miui', '.(Hope', 'this', 'comment', 'is', 'helpful)'], [\"Don't_buy\", '-', '2nd', 'Sim_slot', 'problem', 'and', 'battery', 'problem.', 'Go_for', 'other_mobiles.', \"Don't_buy\", 'this_product.', 'It', 'is', 'not_recognizing', 'the', 'second', 'Sim.', 'Its', 'a', 'different', 'and', 'a', 'saperate', 'slot', 'for', '2nd_sim', 'unlike', 'the', 'other_phones', 'and', 'the', 'phone', 'is', 'not_recognizing', 'the', '2nd', 'slot.', \"It's\", 'better', 'if', 'both', 'the', 'SIM_cards', 'are', 'placed', 'in', 'single', 'slot.', 'Battery_backup', 'is', 'very_low,', 'you_will', 'need_to', 'charge', 'twice', 'daily.']]\n"
     ]
    }
   ],
   "source": [
    "print(tokens_list[0:5])"
   ]
  },
  {
   "cell_type": "code",
   "execution_count": 13,
   "metadata": {},
   "outputs": [],
   "source": [
    "model = Word2Vec(tokens_list, window=5)"
   ]
  },
  {
   "cell_type": "code",
   "execution_count": 14,
   "metadata": {},
   "outputs": [
    {
     "data": {
      "text/plain": [
       "[('device', 0.923348605632782),\n",
       " ('laptop', 0.8996732234954834),\n",
       " ('phone,', 0.854958713054657),\n",
       " ('experience', 0.8361448645591736),\n",
       " ('mobile', 0.8235172629356384),\n",
       " ('business.', 0.8061985373497009),\n",
       " ('handset', 0.7971309423446655),\n",
       " ('smartphone', 0.7943421602249146),\n",
       " ('product.....', 0.7937727570533752),\n",
       " ('thing', 0.7868753671646118)]"
      ]
     },
     "execution_count": 14,
     "metadata": {},
     "output_type": "execute_result"
    }
   ],
   "source": [
    "model.wv.most_similar('phone')"
   ]
  },
  {
   "cell_type": "code",
   "execution_count": 15,
   "metadata": {},
   "outputs": [],
   "source": [
    "model.wv.save_word2vec_format(\"word2vec_shopping.txt\")"
   ]
  },
  {
   "cell_type": "code",
   "execution_count": 16,
   "metadata": {},
   "outputs": [],
   "source": [
    "import gzip\n",
    "\n",
    "fp = open(\"word2vec_shopping.txt\",'rb')\n",
    "data = fp.read()\n",
    "\n",
    "bindata = bytearray(data)\n",
    "\n",
    "with gzip.open(\"word2vec_shopping.txt.gz\",'wb') as f:\n",
    "    f.write(bindata)"
   ]
  },
  {
   "cell_type": "code",
   "execution_count": null,
   "metadata": {},
   "outputs": [],
   "source": []
  }
 ],
 "metadata": {
  "kernelspec": {
   "display_name": "Python 3",
   "language": "python",
   "name": "python3"
  },
  "language_info": {
   "codemirror_mode": {
    "name": "ipython",
    "version": 3
   },
   "file_extension": ".py",
   "mimetype": "text/x-python",
   "name": "python",
   "nbconvert_exporter": "python",
   "pygments_lexer": "ipython3",
   "version": "3.8.8"
  }
 },
 "nbformat": 4,
 "nbformat_minor": 2
}
